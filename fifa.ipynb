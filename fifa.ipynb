{
 "cells": [
  {
   "cell_type": "code",
   "execution_count": 130,
   "metadata": {},
   "outputs": [],
   "source": [
    "import numpy as np\n",
    "import pandas as pd\n",
    "import matplotlib.pyplot as plt\n",
    "import pickle\n",
    "from sklearn.linear_model import LinearRegression\n",
    "from sklearn.ensemble import RandomForestRegressor\n",
    "from sklearn import metrics\n",
    "from sklearn.preprocessing import LabelEncoder\n"
   ]
  },
  {
   "cell_type": "code",
   "execution_count": 131,
   "metadata": {},
   "outputs": [
    {
     "name": "stderr",
     "output_type": "stream",
     "text": [
      "/var/folders/dx/z5v01f653q55k4dkkb8ypf000000gn/T/ipykernel_22865/2926464104.py:1: DtypeWarning: Columns (108) have mixed types. Specify dtype option on import or set low_memory=False.\n",
      "  dataset=pd.read_csv('male_players.csv')\n"
     ]
    }
   ],
   "source": [
    "dataset=pd.read_csv('male_players.csv')"
   ]
  },
  {
   "cell_type": "code",
   "execution_count": 132,
   "metadata": {},
   "outputs": [
    {
     "data": {
      "text/html": [
       "<div>\n",
       "<style scoped>\n",
       "    .dataframe tbody tr th:only-of-type {\n",
       "        vertical-align: middle;\n",
       "    }\n",
       "\n",
       "    .dataframe tbody tr th {\n",
       "        vertical-align: top;\n",
       "    }\n",
       "\n",
       "    .dataframe thead th {\n",
       "        text-align: right;\n",
       "    }\n",
       "</style>\n",
       "<table border=\"1\" class=\"dataframe\">\n",
       "  <thead>\n",
       "    <tr style=\"text-align: right;\">\n",
       "      <th></th>\n",
       "      <th>player_id</th>\n",
       "      <th>player_url</th>\n",
       "      <th>fifa_version</th>\n",
       "      <th>fifa_update</th>\n",
       "      <th>update_as_of</th>\n",
       "      <th>short_name</th>\n",
       "      <th>long_name</th>\n",
       "      <th>player_positions</th>\n",
       "      <th>overall</th>\n",
       "      <th>potential</th>\n",
       "      <th>...</th>\n",
       "      <th>ldm</th>\n",
       "      <th>cdm</th>\n",
       "      <th>rdm</th>\n",
       "      <th>rwb</th>\n",
       "      <th>lb</th>\n",
       "      <th>lcb</th>\n",
       "      <th>cb</th>\n",
       "      <th>rcb</th>\n",
       "      <th>rb</th>\n",
       "      <th>gk</th>\n",
       "    </tr>\n",
       "  </thead>\n",
       "  <tbody>\n",
       "    <tr>\n",
       "      <th>0</th>\n",
       "      <td>231747</td>\n",
       "      <td>/player/231747/kylian-mbappe/240002</td>\n",
       "      <td>24.0</td>\n",
       "      <td>2.0</td>\n",
       "      <td>2023-09-22</td>\n",
       "      <td>K. Mbappé</td>\n",
       "      <td>Kylian Mbappé Lottin</td>\n",
       "      <td>ST, LW</td>\n",
       "      <td>91</td>\n",
       "      <td>94</td>\n",
       "      <td>...</td>\n",
       "      <td>63+3</td>\n",
       "      <td>63+3</td>\n",
       "      <td>63+3</td>\n",
       "      <td>68+3</td>\n",
       "      <td>63+3</td>\n",
       "      <td>54+3</td>\n",
       "      <td>54+3</td>\n",
       "      <td>54+3</td>\n",
       "      <td>63+3</td>\n",
       "      <td>18+3</td>\n",
       "    </tr>\n",
       "    <tr>\n",
       "      <th>1</th>\n",
       "      <td>239085</td>\n",
       "      <td>/player/239085/erling-haaland/240002</td>\n",
       "      <td>24.0</td>\n",
       "      <td>2.0</td>\n",
       "      <td>2023-09-22</td>\n",
       "      <td>E. Haaland</td>\n",
       "      <td>Erling Braut Haaland</td>\n",
       "      <td>ST</td>\n",
       "      <td>91</td>\n",
       "      <td>94</td>\n",
       "      <td>...</td>\n",
       "      <td>63+3</td>\n",
       "      <td>63+3</td>\n",
       "      <td>63+3</td>\n",
       "      <td>62+3</td>\n",
       "      <td>60+3</td>\n",
       "      <td>62+3</td>\n",
       "      <td>62+3</td>\n",
       "      <td>62+3</td>\n",
       "      <td>60+3</td>\n",
       "      <td>19+3</td>\n",
       "    </tr>\n",
       "    <tr>\n",
       "      <th>2</th>\n",
       "      <td>192985</td>\n",
       "      <td>/player/192985/kevin-de-bruyne/240002</td>\n",
       "      <td>24.0</td>\n",
       "      <td>2.0</td>\n",
       "      <td>2023-09-22</td>\n",
       "      <td>K. De Bruyne</td>\n",
       "      <td>Kevin De Bruyne</td>\n",
       "      <td>CM, CAM</td>\n",
       "      <td>91</td>\n",
       "      <td>91</td>\n",
       "      <td>...</td>\n",
       "      <td>80+3</td>\n",
       "      <td>80+3</td>\n",
       "      <td>80+3</td>\n",
       "      <td>79+3</td>\n",
       "      <td>75+3</td>\n",
       "      <td>70+3</td>\n",
       "      <td>70+3</td>\n",
       "      <td>70+3</td>\n",
       "      <td>75+3</td>\n",
       "      <td>21+3</td>\n",
       "    </tr>\n",
       "    <tr>\n",
       "      <th>3</th>\n",
       "      <td>158023</td>\n",
       "      <td>/player/158023/lionel-messi/240002</td>\n",
       "      <td>24.0</td>\n",
       "      <td>2.0</td>\n",
       "      <td>2023-09-22</td>\n",
       "      <td>L. Messi</td>\n",
       "      <td>Lionel Andrés Messi Cuccittini</td>\n",
       "      <td>CF, CAM</td>\n",
       "      <td>90</td>\n",
       "      <td>90</td>\n",
       "      <td>...</td>\n",
       "      <td>63+3</td>\n",
       "      <td>63+3</td>\n",
       "      <td>63+3</td>\n",
       "      <td>64+3</td>\n",
       "      <td>59+3</td>\n",
       "      <td>49+3</td>\n",
       "      <td>49+3</td>\n",
       "      <td>49+3</td>\n",
       "      <td>59+3</td>\n",
       "      <td>19+3</td>\n",
       "    </tr>\n",
       "    <tr>\n",
       "      <th>4</th>\n",
       "      <td>165153</td>\n",
       "      <td>/player/165153/karim-benzema/240002</td>\n",
       "      <td>24.0</td>\n",
       "      <td>2.0</td>\n",
       "      <td>2023-09-22</td>\n",
       "      <td>K. Benzema</td>\n",
       "      <td>Karim Benzema</td>\n",
       "      <td>CF, ST</td>\n",
       "      <td>90</td>\n",
       "      <td>90</td>\n",
       "      <td>...</td>\n",
       "      <td>64+3</td>\n",
       "      <td>64+3</td>\n",
       "      <td>64+3</td>\n",
       "      <td>64+3</td>\n",
       "      <td>60+3</td>\n",
       "      <td>55+3</td>\n",
       "      <td>55+3</td>\n",
       "      <td>55+3</td>\n",
       "      <td>60+3</td>\n",
       "      <td>18+3</td>\n",
       "    </tr>\n",
       "  </tbody>\n",
       "</table>\n",
       "<p>5 rows × 109 columns</p>\n",
       "</div>"
      ],
      "text/plain": [
       "   player_id                             player_url  fifa_version  \\\n",
       "0     231747    /player/231747/kylian-mbappe/240002          24.0   \n",
       "1     239085   /player/239085/erling-haaland/240002          24.0   \n",
       "2     192985  /player/192985/kevin-de-bruyne/240002          24.0   \n",
       "3     158023     /player/158023/lionel-messi/240002          24.0   \n",
       "4     165153    /player/165153/karim-benzema/240002          24.0   \n",
       "\n",
       "   fifa_update update_as_of    short_name                       long_name  \\\n",
       "0          2.0   2023-09-22     K. Mbappé            Kylian Mbappé Lottin   \n",
       "1          2.0   2023-09-22    E. Haaland            Erling Braut Haaland   \n",
       "2          2.0   2023-09-22  K. De Bruyne                 Kevin De Bruyne   \n",
       "3          2.0   2023-09-22      L. Messi  Lionel Andrés Messi Cuccittini   \n",
       "4          2.0   2023-09-22    K. Benzema                   Karim Benzema   \n",
       "\n",
       "  player_positions  overall  potential  ...   ldm   cdm   rdm   rwb    lb  \\\n",
       "0           ST, LW       91         94  ...  63+3  63+3  63+3  68+3  63+3   \n",
       "1               ST       91         94  ...  63+3  63+3  63+3  62+3  60+3   \n",
       "2          CM, CAM       91         91  ...  80+3  80+3  80+3  79+3  75+3   \n",
       "3          CF, CAM       90         90  ...  63+3  63+3  63+3  64+3  59+3   \n",
       "4           CF, ST       90         90  ...  64+3  64+3  64+3  64+3  60+3   \n",
       "\n",
       "    lcb    cb   rcb    rb    gk  \n",
       "0  54+3  54+3  54+3  63+3  18+3  \n",
       "1  62+3  62+3  62+3  60+3  19+3  \n",
       "2  70+3  70+3  70+3  75+3  21+3  \n",
       "3  49+3  49+3  49+3  59+3  19+3  \n",
       "4  55+3  55+3  55+3  60+3  18+3  \n",
       "\n",
       "[5 rows x 109 columns]"
      ]
     },
     "execution_count": 132,
     "metadata": {},
     "output_type": "execute_result"
    }
   ],
   "source": [
    "dataset.head()"
   ]
  },
  {
   "cell_type": "code",
   "execution_count": 133,
   "metadata": {},
   "outputs": [],
   "source": [
    "new_df = dataset.filter(items=['overall','pace','shooting','passing','dribbling','defending','physic','player_positions'])"
   ]
  },
  {
   "cell_type": "code",
   "execution_count": 134,
   "metadata": {},
   "outputs": [
    {
     "data": {
      "text/html": [
       "<div>\n",
       "<style scoped>\n",
       "    .dataframe tbody tr th:only-of-type {\n",
       "        vertical-align: middle;\n",
       "    }\n",
       "\n",
       "    .dataframe tbody tr th {\n",
       "        vertical-align: top;\n",
       "    }\n",
       "\n",
       "    .dataframe thead th {\n",
       "        text-align: right;\n",
       "    }\n",
       "</style>\n",
       "<table border=\"1\" class=\"dataframe\">\n",
       "  <thead>\n",
       "    <tr style=\"text-align: right;\">\n",
       "      <th></th>\n",
       "      <th>overall</th>\n",
       "      <th>pace</th>\n",
       "      <th>shooting</th>\n",
       "      <th>passing</th>\n",
       "      <th>dribbling</th>\n",
       "      <th>defending</th>\n",
       "      <th>physic</th>\n",
       "      <th>player_positions</th>\n",
       "    </tr>\n",
       "  </thead>\n",
       "  <tbody>\n",
       "    <tr>\n",
       "      <th>0</th>\n",
       "      <td>91</td>\n",
       "      <td>97.0</td>\n",
       "      <td>90.0</td>\n",
       "      <td>80.0</td>\n",
       "      <td>92.0</td>\n",
       "      <td>36.0</td>\n",
       "      <td>78.0</td>\n",
       "      <td>ST, LW</td>\n",
       "    </tr>\n",
       "    <tr>\n",
       "      <th>1</th>\n",
       "      <td>91</td>\n",
       "      <td>89.0</td>\n",
       "      <td>93.0</td>\n",
       "      <td>66.0</td>\n",
       "      <td>80.0</td>\n",
       "      <td>45.0</td>\n",
       "      <td>88.0</td>\n",
       "      <td>ST</td>\n",
       "    </tr>\n",
       "    <tr>\n",
       "      <th>2</th>\n",
       "      <td>91</td>\n",
       "      <td>72.0</td>\n",
       "      <td>88.0</td>\n",
       "      <td>94.0</td>\n",
       "      <td>87.0</td>\n",
       "      <td>65.0</td>\n",
       "      <td>78.0</td>\n",
       "      <td>CM, CAM</td>\n",
       "    </tr>\n",
       "    <tr>\n",
       "      <th>3</th>\n",
       "      <td>90</td>\n",
       "      <td>80.0</td>\n",
       "      <td>87.0</td>\n",
       "      <td>90.0</td>\n",
       "      <td>94.0</td>\n",
       "      <td>33.0</td>\n",
       "      <td>64.0</td>\n",
       "      <td>CF, CAM</td>\n",
       "    </tr>\n",
       "    <tr>\n",
       "      <th>4</th>\n",
       "      <td>90</td>\n",
       "      <td>79.0</td>\n",
       "      <td>88.0</td>\n",
       "      <td>83.0</td>\n",
       "      <td>87.0</td>\n",
       "      <td>39.0</td>\n",
       "      <td>78.0</td>\n",
       "      <td>CF, ST</td>\n",
       "    </tr>\n",
       "  </tbody>\n",
       "</table>\n",
       "</div>"
      ],
      "text/plain": [
       "   overall  pace  shooting  passing  dribbling  defending  physic  \\\n",
       "0       91  97.0      90.0     80.0       92.0       36.0    78.0   \n",
       "1       91  89.0      93.0     66.0       80.0       45.0    88.0   \n",
       "2       91  72.0      88.0     94.0       87.0       65.0    78.0   \n",
       "3       90  80.0      87.0     90.0       94.0       33.0    64.0   \n",
       "4       90  79.0      88.0     83.0       87.0       39.0    78.0   \n",
       "\n",
       "  player_positions  \n",
       "0           ST, LW  \n",
       "1               ST  \n",
       "2          CM, CAM  \n",
       "3          CF, CAM  \n",
       "4           CF, ST  "
      ]
     },
     "execution_count": 134,
     "metadata": {},
     "output_type": "execute_result"
    }
   ],
   "source": [
    "new_df.head()"
   ]
  },
  {
   "cell_type": "code",
   "execution_count": 135,
   "metadata": {},
   "outputs": [
    {
     "name": "stdout",
     "output_type": "stream",
     "text": [
      "overall                 0\n",
      "pace                20024\n",
      "shooting            20024\n",
      "passing             20024\n",
      "dribbling           20024\n",
      "defending           20024\n",
      "physic              20024\n",
      "player_positions        0\n",
      "dtype: int64\n"
     ]
    }
   ],
   "source": [
    "# Check null values in each column of the DataFrame\n",
    "null_counts = new_df.isna().sum()\n",
    "print(null_counts)"
   ]
  },
  {
   "cell_type": "code",
   "execution_count": 136,
   "metadata": {},
   "outputs": [],
   "source": [
    "new_df['player_positions']=new_df['player_positions'].str.split(',').str[0]"
   ]
  },
  {
   "cell_type": "code",
   "execution_count": 137,
   "metadata": {},
   "outputs": [
    {
     "data": {
      "text/plain": [
       "player_positions\n",
       "CB     30861\n",
       "ST     25644\n",
       "CM     21128\n",
       "GK     20025\n",
       "CDM    14475\n",
       "RB     13009\n",
       "LB     12907\n",
       "CAM    10950\n",
       "LM     10024\n",
       "RM      9974\n",
       "RW      4009\n",
       "LW      3731\n",
       "CF      1126\n",
       "RWB     1086\n",
       "LWB     1072\n",
       "Name: count, dtype: int64"
      ]
     },
     "execution_count": 137,
     "metadata": {},
     "output_type": "execute_result"
    }
   ],
   "source": [
    "new_df['player_positions'].value_counts()"
   ]
  },
  {
   "cell_type": "code",
   "execution_count": 138,
   "metadata": {},
   "outputs": [],
   "source": [
    "new_df.head()\n",
    "new_df = new_df[new_df['player_positions'] != 'GK']"
   ]
  },
  {
   "cell_type": "code",
   "execution_count": 139,
   "metadata": {},
   "outputs": [
    {
     "data": {
      "text/html": [
       "<div>\n",
       "<style scoped>\n",
       "    .dataframe tbody tr th:only-of-type {\n",
       "        vertical-align: middle;\n",
       "    }\n",
       "\n",
       "    .dataframe tbody tr th {\n",
       "        vertical-align: top;\n",
       "    }\n",
       "\n",
       "    .dataframe thead th {\n",
       "        text-align: right;\n",
       "    }\n",
       "</style>\n",
       "<table border=\"1\" class=\"dataframe\">\n",
       "  <thead>\n",
       "    <tr style=\"text-align: right;\">\n",
       "      <th></th>\n",
       "      <th>overall</th>\n",
       "      <th>pace</th>\n",
       "      <th>shooting</th>\n",
       "      <th>passing</th>\n",
       "      <th>dribbling</th>\n",
       "      <th>defending</th>\n",
       "      <th>physic</th>\n",
       "      <th>player_positions</th>\n",
       "    </tr>\n",
       "  </thead>\n",
       "  <tbody>\n",
       "    <tr>\n",
       "      <th>0</th>\n",
       "      <td>91</td>\n",
       "      <td>97.0</td>\n",
       "      <td>90.0</td>\n",
       "      <td>80.0</td>\n",
       "      <td>92.0</td>\n",
       "      <td>36.0</td>\n",
       "      <td>78.0</td>\n",
       "      <td>13</td>\n",
       "    </tr>\n",
       "    <tr>\n",
       "      <th>1</th>\n",
       "      <td>91</td>\n",
       "      <td>89.0</td>\n",
       "      <td>93.0</td>\n",
       "      <td>66.0</td>\n",
       "      <td>80.0</td>\n",
       "      <td>45.0</td>\n",
       "      <td>88.0</td>\n",
       "      <td>13</td>\n",
       "    </tr>\n",
       "    <tr>\n",
       "      <th>2</th>\n",
       "      <td>91</td>\n",
       "      <td>72.0</td>\n",
       "      <td>88.0</td>\n",
       "      <td>94.0</td>\n",
       "      <td>87.0</td>\n",
       "      <td>65.0</td>\n",
       "      <td>78.0</td>\n",
       "      <td>4</td>\n",
       "    </tr>\n",
       "    <tr>\n",
       "      <th>3</th>\n",
       "      <td>90</td>\n",
       "      <td>80.0</td>\n",
       "      <td>87.0</td>\n",
       "      <td>90.0</td>\n",
       "      <td>94.0</td>\n",
       "      <td>33.0</td>\n",
       "      <td>64.0</td>\n",
       "      <td>3</td>\n",
       "    </tr>\n",
       "    <tr>\n",
       "      <th>4</th>\n",
       "      <td>90</td>\n",
       "      <td>79.0</td>\n",
       "      <td>88.0</td>\n",
       "      <td>83.0</td>\n",
       "      <td>87.0</td>\n",
       "      <td>39.0</td>\n",
       "      <td>78.0</td>\n",
       "      <td>3</td>\n",
       "    </tr>\n",
       "  </tbody>\n",
       "</table>\n",
       "</div>"
      ],
      "text/plain": [
       "   overall  pace  shooting  passing  dribbling  defending  physic  \\\n",
       "0       91  97.0      90.0     80.0       92.0       36.0    78.0   \n",
       "1       91  89.0      93.0     66.0       80.0       45.0    88.0   \n",
       "2       91  72.0      88.0     94.0       87.0       65.0    78.0   \n",
       "3       90  80.0      87.0     90.0       94.0       33.0    64.0   \n",
       "4       90  79.0      88.0     83.0       87.0       39.0    78.0   \n",
       "\n",
       "   player_positions  \n",
       "0                13  \n",
       "1                13  \n",
       "2                 4  \n",
       "3                 3  \n",
       "4                 3  "
      ]
     },
     "execution_count": 139,
     "metadata": {},
     "output_type": "execute_result"
    }
   ],
   "source": [
    "labelencoder=LabelEncoder()\n",
    "new_df['player_positions']=labelencoder.fit_transform(new_df['player_positions'])\n",
    "new_df.head()"
   ]
  },
  {
   "cell_type": "code",
   "execution_count": 140,
   "metadata": {},
   "outputs": [
    {
     "data": {
      "text/plain": [
       "player_positions\n",
       "1     30861\n",
       "13    25644\n",
       "4     21128\n",
       "2     14475\n",
       "9     13009\n",
       "5     12907\n",
       "0     10950\n",
       "6     10024\n",
       "10     9974\n",
       "11     4009\n",
       "7      3731\n",
       "3      1126\n",
       "12     1086\n",
       "8      1072\n",
       "Name: count, dtype: int64"
      ]
     },
     "execution_count": 140,
     "metadata": {},
     "output_type": "execute_result"
    }
   ],
   "source": [
    "new_df['player_positions'].value_counts()"
   ]
  },
  {
   "cell_type": "code",
   "execution_count": 141,
   "metadata": {},
   "outputs": [],
   "source": [
    "from sklearn.preprocessing import StandardScaler\n",
    "scaler=StandardScaler()\n",
    "target=new_df['overall']\n",
    "new_df=new_df.drop(columns='overall')"
   ]
  },
  {
   "cell_type": "code",
   "execution_count": 142,
   "metadata": {},
   "outputs": [],
   "source": [
    "scaled_df=scaler.fit_transform(new_df)"
   ]
  },
  {
   "cell_type": "code",
   "execution_count": 143,
   "metadata": {},
   "outputs": [],
   "source": [
    "scaled_df = pd.DataFrame(scaled_df,columns=new_df.columns)\n"
   ]
  },
  {
   "cell_type": "code",
   "execution_count": 144,
   "metadata": {},
   "outputs": [
    {
     "data": {
      "text/html": [
       "<div>\n",
       "<style scoped>\n",
       "    .dataframe tbody tr th:only-of-type {\n",
       "        vertical-align: middle;\n",
       "    }\n",
       "\n",
       "    .dataframe tbody tr th {\n",
       "        vertical-align: top;\n",
       "    }\n",
       "\n",
       "    .dataframe thead th {\n",
       "        text-align: right;\n",
       "    }\n",
       "</style>\n",
       "<table border=\"1\" class=\"dataframe\">\n",
       "  <thead>\n",
       "    <tr style=\"text-align: right;\">\n",
       "      <th></th>\n",
       "      <th>pace</th>\n",
       "      <th>shooting</th>\n",
       "      <th>passing</th>\n",
       "      <th>dribbling</th>\n",
       "      <th>defending</th>\n",
       "      <th>physic</th>\n",
       "      <th>player_positions</th>\n",
       "    </tr>\n",
       "  </thead>\n",
       "  <tbody>\n",
       "    <tr>\n",
       "      <th>0</th>\n",
       "      <td>2.615838</td>\n",
       "      <td>2.710494</td>\n",
       "      <td>2.206079</td>\n",
       "      <td>2.919493</td>\n",
       "      <td>-0.918707</td>\n",
       "      <td>1.350565</td>\n",
       "      <td>1.635984</td>\n",
       "    </tr>\n",
       "    <tr>\n",
       "      <th>1</th>\n",
       "      <td>1.892759</td>\n",
       "      <td>2.926000</td>\n",
       "      <td>0.863498</td>\n",
       "      <td>1.745415</td>\n",
       "      <td>-0.375906</td>\n",
       "      <td>2.375611</td>\n",
       "      <td>1.635984</td>\n",
       "    </tr>\n",
       "    <tr>\n",
       "      <th>2</th>\n",
       "      <td>0.356218</td>\n",
       "      <td>2.566822</td>\n",
       "      <td>3.548660</td>\n",
       "      <td>2.430294</td>\n",
       "      <td>0.830318</td>\n",
       "      <td>1.350565</td>\n",
       "      <td>-0.385170</td>\n",
       "    </tr>\n",
       "    <tr>\n",
       "      <th>3</th>\n",
       "      <td>1.079296</td>\n",
       "      <td>2.494987</td>\n",
       "      <td>3.165065</td>\n",
       "      <td>3.115173</td>\n",
       "      <td>-1.099640</td>\n",
       "      <td>-0.084499</td>\n",
       "      <td>-0.609743</td>\n",
       "    </tr>\n",
       "    <tr>\n",
       "      <th>4</th>\n",
       "      <td>0.988911</td>\n",
       "      <td>2.566822</td>\n",
       "      <td>2.493775</td>\n",
       "      <td>2.430294</td>\n",
       "      <td>-0.737773</td>\n",
       "      <td>1.350565</td>\n",
       "      <td>-0.609743</td>\n",
       "    </tr>\n",
       "  </tbody>\n",
       "</table>\n",
       "</div>"
      ],
      "text/plain": [
       "       pace  shooting   passing  dribbling  defending    physic  \\\n",
       "0  2.615838  2.710494  2.206079   2.919493  -0.918707  1.350565   \n",
       "1  1.892759  2.926000  0.863498   1.745415  -0.375906  2.375611   \n",
       "2  0.356218  2.566822  3.548660   2.430294   0.830318  1.350565   \n",
       "3  1.079296  2.494987  3.165065   3.115173  -1.099640 -0.084499   \n",
       "4  0.988911  2.566822  2.493775   2.430294  -0.737773  1.350565   \n",
       "\n",
       "   player_positions  \n",
       "0          1.635984  \n",
       "1          1.635984  \n",
       "2         -0.385170  \n",
       "3         -0.609743  \n",
       "4         -0.609743  "
      ]
     },
     "execution_count": 144,
     "metadata": {},
     "output_type": "execute_result"
    }
   ],
   "source": [
    "scaled_df.head()"
   ]
  },
  {
   "cell_type": "code",
   "execution_count": 145,
   "metadata": {},
   "outputs": [],
   "source": [
    "from sklearn.model_selection import train_test_split\n",
    "xtrain,xtest,ytrain,ytest=train_test_split(scaled_df,target,test_size=0.25,random_state=10)"
   ]
  },
  {
   "cell_type": "code",
   "execution_count": 146,
   "metadata": {},
   "outputs": [
    {
     "name": "stdout",
     "output_type": "stream",
     "text": [
      "(119997, 7) (119997,) (39999, 7) (39999,)\n"
     ]
    }
   ],
   "source": [
    "print(xtrain.shape,\n",
    "ytrain.shape,\n",
    "xtest.shape,\n",
    "ytest.shape)"
   ]
  },
  {
   "cell_type": "code",
   "execution_count": 147,
   "metadata": {},
   "outputs": [
    {
     "name": "stdout",
     "output_type": "stream",
     "text": [
      "R2 ERROR FOR TRAIN OF MODEL  is 0.9955614975109641 \n",
      "R2 ERROR FOR TEST OF MODEL  is 0.9688445439862364 \n",
      "\n",
      "\n"
     ]
    }
   ],
   "source": [
    "\n",
    "model=RandomForestRegressor()\n",
    "\n",
    "\n",
    "\n",
    "model.fit(xtrain, ytrain)\n",
    "ytrainpred = model.predict(xtrain)\n",
    "ytestpred = model.predict(xtest)\n",
    "error_score1 = metrics.r2_score(ytrain, ytrainpred)\n",
    "error_score2 = metrics.r2_score(ytest, ytestpred)\n",
    "print(f'R2 ERROR FOR TRAIN OF MODEL  is {error_score1} ')\n",
    "print(f'R2 ERROR FOR TEST OF MODEL  is {error_score2} ')\n",
    "print('\\n')"
   ]
  },
  {
   "cell_type": "code",
   "execution_count": 150,
   "metadata": {},
   "outputs": [
    {
     "data": {
      "text/html": [
       "<div>\n",
       "<style scoped>\n",
       "    .dataframe tbody tr th:only-of-type {\n",
       "        vertical-align: middle;\n",
       "    }\n",
       "\n",
       "    .dataframe tbody tr th {\n",
       "        vertical-align: top;\n",
       "    }\n",
       "\n",
       "    .dataframe thead th {\n",
       "        text-align: right;\n",
       "    }\n",
       "</style>\n",
       "<table border=\"1\" class=\"dataframe\">\n",
       "  <thead>\n",
       "    <tr style=\"text-align: right;\">\n",
       "      <th></th>\n",
       "      <th>pace</th>\n",
       "      <th>shooting</th>\n",
       "      <th>passing</th>\n",
       "      <th>dribbling</th>\n",
       "      <th>defending</th>\n",
       "      <th>physic</th>\n",
       "      <th>player_positions</th>\n",
       "    </tr>\n",
       "  </thead>\n",
       "  <tbody>\n",
       "    <tr>\n",
       "      <th>0</th>\n",
       "      <td>2.615838</td>\n",
       "      <td>2.710494</td>\n",
       "      <td>2.206079</td>\n",
       "      <td>2.919493</td>\n",
       "      <td>-0.918707</td>\n",
       "      <td>1.350565</td>\n",
       "      <td>1.635984</td>\n",
       "    </tr>\n",
       "    <tr>\n",
       "      <th>1</th>\n",
       "      <td>1.892759</td>\n",
       "      <td>2.926000</td>\n",
       "      <td>0.863498</td>\n",
       "      <td>1.745415</td>\n",
       "      <td>-0.375906</td>\n",
       "      <td>2.375611</td>\n",
       "      <td>1.635984</td>\n",
       "    </tr>\n",
       "    <tr>\n",
       "      <th>2</th>\n",
       "      <td>0.356218</td>\n",
       "      <td>2.566822</td>\n",
       "      <td>3.548660</td>\n",
       "      <td>2.430294</td>\n",
       "      <td>0.830318</td>\n",
       "      <td>1.350565</td>\n",
       "      <td>-0.385170</td>\n",
       "    </tr>\n",
       "    <tr>\n",
       "      <th>3</th>\n",
       "      <td>1.079296</td>\n",
       "      <td>2.494987</td>\n",
       "      <td>3.165065</td>\n",
       "      <td>3.115173</td>\n",
       "      <td>-1.099640</td>\n",
       "      <td>-0.084499</td>\n",
       "      <td>-0.609743</td>\n",
       "    </tr>\n",
       "    <tr>\n",
       "      <th>4</th>\n",
       "      <td>0.988911</td>\n",
       "      <td>2.566822</td>\n",
       "      <td>2.493775</td>\n",
       "      <td>2.430294</td>\n",
       "      <td>-0.737773</td>\n",
       "      <td>1.350565</td>\n",
       "      <td>-0.609743</td>\n",
       "    </tr>\n",
       "  </tbody>\n",
       "</table>\n",
       "</div>"
      ],
      "text/plain": [
       "       pace  shooting   passing  dribbling  defending    physic  \\\n",
       "0  2.615838  2.710494  2.206079   2.919493  -0.918707  1.350565   \n",
       "1  1.892759  2.926000  0.863498   1.745415  -0.375906  2.375611   \n",
       "2  0.356218  2.566822  3.548660   2.430294   0.830318  1.350565   \n",
       "3  1.079296  2.494987  3.165065   3.115173  -1.099640 -0.084499   \n",
       "4  0.988911  2.566822  2.493775   2.430294  -0.737773  1.350565   \n",
       "\n",
       "   player_positions  \n",
       "0          1.635984  \n",
       "1          1.635984  \n",
       "2         -0.385170  \n",
       "3         -0.609743  \n",
       "4         -0.609743  "
      ]
     },
     "execution_count": 150,
     "metadata": {},
     "output_type": "execute_result"
    }
   ],
   "source": [
    "scaled_df.head()"
   ]
  },
  {
   "cell_type": "code",
   "execution_count": 151,
   "metadata": {},
   "outputs": [
    {
     "data": {
      "image/png": "[encoded data removed]",
      "text/plain": [
       "<Figure size 640x480 with 1 Axes>"
      ]
     },
     "metadata": {},
     "output_type": "display_data"
    }
   ],
   "source": [
    "import seaborn as sns\n",
    "import matplotlib.pyplot as plt\n",
    "\n",
    "# Plot distribution of 'overall'\n",
    "sns.histplot(dataset['overall'], kde=True)\n",
    "plt.title('Distribution of Overall Ratings')\n",
    "plt.show()"
   ]
  },
  {
   "cell_type": "code",
   "execution_count": null,
   "metadata": {},
   "outputs": [
    {
     "name": "stdout",
     "output_type": "stream",
     "text": [
      "[63.85]\n"
     ]
    },
    {
     "name": "stderr",
     "output_type": "stream",
     "text": [
      "/opt/anaconda3/lib/python3.12/site-packages/sklearn/base.py:493: UserWarning: X does not have valid feature names, but RandomForestRegressor was fitted with feature names\n",
      "  warnings.warn(\n"
     ]
    }
   ],
   "source": [
    "casado=np.array([[60,54,61,66,61,53,2]])\n",
    "casado=pd.DataFrame(casado,columns=scaled_df.columns)\n",
    "casado=scaler.transform(casado)\n",
    "print(model.predict(casado)) #actual rating is 64"
   ]
  },
  {
   "cell_type": "code",
   "execution_count": null,
   "metadata": {},
   "outputs": [
    {
     "name": "stdout",
     "output_type": "stream",
     "text": [
      "[65.36]\n"
     ]
    },
    {
     "name": "stderr",
     "output_type": "stream",
     "text": [
      "/opt/anaconda3/lib/python3.12/site-packages/sklearn/base.py:493: UserWarning: X does not have valid feature names, but RandomForestRegressor was fitted with feature names\n",
      "  warnings.warn(\n"
     ]
    }
   ],
   "source": [
    "cubarsi=np.array([[67,23,46,56,67,63,1]])\n",
    "cubarsi=pd.DataFrame(cubarsi,columns=scaled_df.columns)\n",
    "cubarsi=scaler.transform(cubarsi)\n",
    "print(model.predict(cubarsi)) #actual rating is 65"
   ]
  },
  {
   "cell_type": "code",
   "execution_count": 155,
   "metadata": {},
   "outputs": [
    {
     "name": "stdout",
     "output_type": "stream",
     "text": [
      "Haaland prediction: [86.878]\n"
     ]
    },
    {
     "name": "stderr",
     "output_type": "stream",
     "text": [
      "/opt/anaconda3/lib/python3.12/site-packages/sklearn/base.py:493: UserWarning: X does not have valid feature names, but RandomForestRegressor was fitted with feature names\n",
      "  warnings.warn(\n"
     ]
    }
   ],
   "source": [
    "haaland = np.array([[89, 93, 66, 80, 45, 88, 13]])\n",
    "haaland = pd.DataFrame(haaland, columns=scaled_df.columns)\n",
    "haaland_scaled = scaler.transform(haaland)\n",
    "print(\"Haaland prediction:\", model.predict(haaland_scaled))\n"
   ]
  },
  {
   "cell_type": "code",
   "execution_count": 156,
   "metadata": {},
   "outputs": [
    {
     "name": "stdout",
     "output_type": "stream",
     "text": [
      "Rodri prediction: [86.74]\n"
     ]
    },
    {
     "name": "stderr",
     "output_type": "stream",
     "text": [
      "/opt/anaconda3/lib/python3.12/site-packages/sklearn/base.py:493: UserWarning: X does not have valid feature names, but RandomForestRegressor was fitted with feature names\n",
      "  warnings.warn(\n"
     ]
    }
   ],
   "source": [
    "rodri = np.array([[66, 80, 86, 84, 87, 85, 2]])\n",
    "rodri = pd.DataFrame(rodri, columns=scaled_df.columns)\n",
    "rodri_scaled = scaler.transform(rodri)\n",
    "print(\"Rodri prediction:\", model.predict(rodri_scaled))\n"
   ]
  },
  {
   "cell_type": "code",
   "execution_count": 157,
   "metadata": {},
   "outputs": [],
   "source": [
    "filename='trainedmodel.sav'\n",
    "pickle.dump(model,open(filename,'wb'))\n",
    "filename='scaler.sav'\n",
    "pickle.dump(scaler,open(filename,'wb'))"
   ]
  },
  {
   "cell_type": "code",
   "execution_count": null,
   "metadata": {},
   "outputs": [],
   "source": []
  }
 ],
 "metadata": {
  "kernelspec": {
   "display_name": "base",
   "language": "python",
   "name": "python3"
  },
  "language_info": {
   "codemirror_mode": {
    "name": "ipython",
    "version": 3
   },
   "file_extension": ".py",
   "mimetype": "text/x-python",
   "name": "python",
   "nbconvert_exporter": "python",
   "pygments_lexer": "ipython3",
   "version": "3.12.4"
  }
 },
 "nbformat": 4,
 "nbformat_minor": 2
}
